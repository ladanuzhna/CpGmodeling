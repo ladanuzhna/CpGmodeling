{
 "cells": [
  {
   "cell_type": "code",
   "execution_count": 7,
   "id": "de89d7f7",
   "metadata": {},
   "outputs": [],
   "source": [
    "from Bio import SeqIO\n",
    "import pandas as pd\n",
    "from Bio.Seq import Seq\n",
    "\n",
    "reverse_complement = lambda x: str(Seq(x.seq).reverse_complement())\n",
    "\n",
    "sequence_file = \"data/opJS.amplicon.long.fa\""
   ]
  },
  {
   "cell_type": "code",
   "execution_count": 10,
   "id": "05fc814c",
   "metadata": {},
   "outputs": [
    {
     "name": "stdout",
     "output_type": "stream",
     "text": [
      "seq_df shape (15, 1)\n"
     ]
    },
    {
     "data": {
      "text/html": [
       "<div>\n",
       "<style scoped>\n",
       "    .dataframe tbody tr th:only-of-type {\n",
       "        vertical-align: middle;\n",
       "    }\n",
       "\n",
       "    .dataframe tbody tr th {\n",
       "        vertical-align: top;\n",
       "    }\n",
       "\n",
       "    .dataframe thead th {\n",
       "        text-align: right;\n",
       "    }\n",
       "</style>\n",
       "<table border=\"1\" class=\"dataframe\">\n",
       "  <thead>\n",
       "    <tr style=\"text-align: right;\">\n",
       "      <th></th>\n",
       "      <th>seq</th>\n",
       "    </tr>\n",
       "    <tr>\n",
       "      <th>ID</th>\n",
       "      <th></th>\n",
       "    </tr>\n",
       "  </thead>\n",
       "  <tbody>\n",
       "    <tr>\n",
       "      <th>opJS2_1xTetO</th>\n",
       "      <td>ATGTGTGAGTTTTGTCGGATCCGAGACGACCGCCTGATCCGCCCGT...</td>\n",
       "    </tr>\n",
       "    <tr>\n",
       "      <th>opJS2_2xTetO</th>\n",
       "      <td>ATGTGTGAGTTTTGTCGGATCCGAGACGACCGCCTGATCCGCCCGT...</td>\n",
       "    </tr>\n",
       "    <tr>\n",
       "      <th>opJS2_3xTetO</th>\n",
       "      <td>ATGTGTGAGTTTTGTCGGATCCGAGACGACCGCCTGATCCGCCCGT...</td>\n",
       "    </tr>\n",
       "    <tr>\n",
       "      <th>opJS2_4xTetO</th>\n",
       "      <td>ATGTGTGAGTTTTGTCGGATCCGAGACGACCGCCTGATCCGCCCGT...</td>\n",
       "    </tr>\n",
       "    <tr>\n",
       "      <th>opJS2_5xTetO</th>\n",
       "      <td>ATGTGTGAGTTTTGTCGGATCCGAGACGACCGCCTGATCCGCCCGT...</td>\n",
       "    </tr>\n",
       "  </tbody>\n",
       "</table>\n",
       "</div>"
      ],
      "text/plain": [
       "                                                            seq\n",
       "ID                                                             \n",
       "opJS2_1xTetO  ATGTGTGAGTTTTGTCGGATCCGAGACGACCGCCTGATCCGCCCGT...\n",
       "opJS2_2xTetO  ATGTGTGAGTTTTGTCGGATCCGAGACGACCGCCTGATCCGCCCGT...\n",
       "opJS2_3xTetO  ATGTGTGAGTTTTGTCGGATCCGAGACGACCGCCTGATCCGCCCGT...\n",
       "opJS2_4xTetO  ATGTGTGAGTTTTGTCGGATCCGAGACGACCGCCTGATCCGCCCGT...\n",
       "opJS2_5xTetO  ATGTGTGAGTTTTGTCGGATCCGAGACGACCGCCTGATCCGCCCGT..."
      ]
     },
     "execution_count": 10,
     "metadata": {},
     "output_type": "execute_result"
    }
   ],
   "source": [
    "with open(sequence_file) as fasta_file:\n",
    "    identifiers = []\n",
    "    seqs = []\n",
    "    for seq_record in SeqIO.parse(fasta_file, 'fasta'):\n",
    "        identifiers.append(seq_record.id)\n",
    "        seq_ = reverse_complement(seq_record) # ! we reverse complement for this experiment\n",
    "        seqs.append(str(seq_))\n",
    "\n",
    "#converting lists to pandas Series    \n",
    "s1 = pd.Series(identifiers, name='fragment')\n",
    "s2 = pd.Series(seqs, name='seq')\n",
    "#Gathering Series into a pandas DataFrame and rename index as ID column\n",
    "seq_df = pd.DataFrame(dict(ID=s1, seq=s2)).set_index(['ID'])\n",
    "\n",
    "print(f\"seq_df shape {seq_df.shape}\")\n",
    "seq_df.head()"
   ]
  },
  {
   "cell_type": "code",
   "execution_count": 11,
   "id": "77b985d6",
   "metadata": {},
   "outputs": [],
   "source": [
    "#conditions\n",
    "name_c = lambda group,dox,mtase,constr: f\"{group}.opJS2-{dox}{mtase}_LONG.opJSC2_{constr}.full_unclustered.matrix\"\n",
    "group_c = [\"L057\",\"L058\",\"L059\",\"L060\"]\n",
    "dox_c = [\"24hr-1000ngDox\",\"no-dox\"]\n",
    "mtase_c = [\"\",\"-plusCpG\",]\n",
    "construct_c = [f\"{i}xTetO\" for i in range (1,8)]"
   ]
  },
  {
   "cell_type": "markdown",
   "id": "803a81e8",
   "metadata": {},
   "source": [
    "# MTase- , EDA"
   ]
  },
  {
   "cell_type": "code",
   "execution_count": 14,
   "id": "1dd01098",
   "metadata": {},
   "outputs": [],
   "source": [
    "def compute_similarity(seq_1, seq_2):\n",
    "    \"\"\"\n",
    "    Computes the percent similarity between two sequences ignoring gaps. \n",
    "    \n",
    "    Parameters\n",
    "    ----------\n",
    "    seq_1, seq_2 : strings\n",
    "        DNA sequences to compare. These must be the same length.\n",
    "        \n",
    "    Returns\n",
    "    -------\n",
    "    score : float\n",
    "        The percent similarity between the two sequences. \n",
    "    \"\"\"\n",
    "    # Make sure they are the same length. \n",
    "    if len(seq_1) != len(seq_2):\n",
    "        raise ValueError('Sequences must be the same length!')\n",
    "        \n",
    "    # Make both sequences lowercase.\n",
    "    seq_1 = seq_1.lower()\n",
    "    seq_2 = seq_2.lower()\n",
    "        \n",
    "    # Set up counters of length and similarity.\n",
    "    comp_length = 0\n",
    "    num_sim = 0\n",
    "    \n",
    "    # Iterate through each position in the sequences.\n",
    "    for base in range(len(seq_1)):\n",
    "        \n",
    "        # Ensure we are not comparing gaps.\n",
    "        if (seq_1[base] != '-') and (seq_2[base] != '-'):\n",
    "            \n",
    "            # Increase the counter for compared length.\n",
    "            comp_length += 1\n",
    "            \n",
    "            # Compare the two positions.\n",
    "            if seq_1[base] == seq_2[base]:\n",
    "                \n",
    "                # Increase the similarity counter.\n",
    "                num_sim += 1\n",
    "                \n",
    "    # Compute and return the percent similarity.\n",
    "    score = num_sim  / comp_length\n",
    "    return score\n",
    "\n",
    "count_motif = lambda motif,sequence: sequence.lower().count(motif)"
   ]
  },
  {
   "cell_type": "code",
   "execution_count": 12,
   "id": "ca31d120",
   "metadata": {},
   "outputs": [],
   "source": [
    "mtase_neg_files = [name_c(g,d,\"\",c) for g in group_c for d in dox_c for c in construct_c]"
   ]
  },
  {
   "cell_type": "code",
   "execution_count": 46,
   "id": "dc29c11a",
   "metadata": {},
   "outputs": [],
   "source": [
    "from collections import Counter,defaultdict\n",
    "\n",
    "content_count = defaultdict(dict)\n",
    "\n",
    "for i,row in seq_df.iterrows():\n",
    "    content_count[i]['gc'] = count_motif('gc',row.seq)\n",
    "    content_count[i]['cg'] = count_motif('cg',row.seq)"
   ]
  },
  {
   "cell_type": "code",
   "execution_count": 65,
   "id": "8d7d0354",
   "metadata": {},
   "outputs": [
    {
     "data": {
      "text/html": [
       "<div>\n",
       "<style scoped>\n",
       "    .dataframe tbody tr th:only-of-type {\n",
       "        vertical-align: middle;\n",
       "    }\n",
       "\n",
       "    .dataframe tbody tr th {\n",
       "        vertical-align: top;\n",
       "    }\n",
       "\n",
       "    .dataframe thead th {\n",
       "        text-align: right;\n",
       "    }\n",
       "</style>\n",
       "<table border=\"1\" class=\"dataframe\">\n",
       "  <thead>\n",
       "    <tr style=\"text-align: right;\">\n",
       "      <th></th>\n",
       "      <th>gc</th>\n",
       "      <th>cg</th>\n",
       "    </tr>\n",
       "  </thead>\n",
       "  <tbody>\n",
       "    <tr>\n",
       "      <th>opJS2_1xTetO</th>\n",
       "      <td>53</td>\n",
       "      <td>31</td>\n",
       "    </tr>\n",
       "    <tr>\n",
       "      <th>opJS2_2xTetO</th>\n",
       "      <td>53</td>\n",
       "      <td>28</td>\n",
       "    </tr>\n",
       "    <tr>\n",
       "      <th>opJS2_3xTetO</th>\n",
       "      <td>48</td>\n",
       "      <td>23</td>\n",
       "    </tr>\n",
       "    <tr>\n",
       "      <th>opJS2_4xTetO</th>\n",
       "      <td>45</td>\n",
       "      <td>22</td>\n",
       "    </tr>\n",
       "    <tr>\n",
       "      <th>opJS2_5xTetO</th>\n",
       "      <td>42</td>\n",
       "      <td>22</td>\n",
       "    </tr>\n",
       "    <tr>\n",
       "      <th>opJS2_6xTetO</th>\n",
       "      <td>43</td>\n",
       "      <td>20</td>\n",
       "    </tr>\n",
       "    <tr>\n",
       "      <th>opJS2_7xTetO</th>\n",
       "      <td>44</td>\n",
       "      <td>24</td>\n",
       "    </tr>\n",
       "    <tr>\n",
       "      <th>opJS2_7xTetO-compact</th>\n",
       "      <td>43</td>\n",
       "      <td>21</td>\n",
       "    </tr>\n",
       "    <tr>\n",
       "      <th>opJS2_6xTetO-compact</th>\n",
       "      <td>45</td>\n",
       "      <td>21</td>\n",
       "    </tr>\n",
       "    <tr>\n",
       "      <th>opJS2_5xTetO-compact</th>\n",
       "      <td>46</td>\n",
       "      <td>23</td>\n",
       "    </tr>\n",
       "    <tr>\n",
       "      <th>opJS2_6xTetO-spread</th>\n",
       "      <td>46</td>\n",
       "      <td>24</td>\n",
       "    </tr>\n",
       "    <tr>\n",
       "      <th>opJS2_5xTetO-spread</th>\n",
       "      <td>43</td>\n",
       "      <td>23</td>\n",
       "    </tr>\n",
       "    <tr>\n",
       "      <th>opJS2_4xTetO-spread</th>\n",
       "      <td>46</td>\n",
       "      <td>22</td>\n",
       "    </tr>\n",
       "    <tr>\n",
       "      <th>opJS2_3xTetO-spread</th>\n",
       "      <td>49</td>\n",
       "      <td>23</td>\n",
       "    </tr>\n",
       "    <tr>\n",
       "      <th>opJS2_2xTetO-spread</th>\n",
       "      <td>53</td>\n",
       "      <td>28</td>\n",
       "    </tr>\n",
       "  </tbody>\n",
       "</table>\n",
       "</div>"
      ],
      "text/plain": [
       "                      gc  cg\n",
       "opJS2_1xTetO          53  31\n",
       "opJS2_2xTetO          53  28\n",
       "opJS2_3xTetO          48  23\n",
       "opJS2_4xTetO          45  22\n",
       "opJS2_5xTetO          42  22\n",
       "opJS2_6xTetO          43  20\n",
       "opJS2_7xTetO          44  24\n",
       "opJS2_7xTetO-compact  43  21\n",
       "opJS2_6xTetO-compact  45  21\n",
       "opJS2_5xTetO-compact  46  23\n",
       "opJS2_6xTetO-spread   46  24\n",
       "opJS2_5xTetO-spread   43  23\n",
       "opJS2_4xTetO-spread   46  22\n",
       "opJS2_3xTetO-spread   49  23\n",
       "opJS2_2xTetO-spread   53  28"
      ]
     },
     "execution_count": 65,
     "metadata": {},
     "output_type": "execute_result"
    }
   ],
   "source": [
    "content_df = pd.DataFrame.from_dict(content_count).T\n",
    "content_df"
   ]
  },
  {
   "cell_type": "code",
   "execution_count": 60,
   "id": "cca24a7f",
   "metadata": {},
   "outputs": [
    {
     "name": "stdout",
     "output_type": "stream",
     "text": [
      "gc    699\n",
      "cg    355\n",
      "dtype: int64\n"
     ]
    },
    {
     "data": {
      "image/png": "[encoded data removed]",
      "text/plain": [
       "<Figure size 432x288 with 1 Axes>"
      ]
     },
     "metadata": {
      "needs_background": "light"
     },
     "output_type": "display_data"
    }
   ],
   "source": [
    "content_df.plot.hist()\n",
    "print(content_df.sum())"
   ]
  },
  {
   "cell_type": "code",
   "execution_count": 63,
   "id": "e33b68e0",
   "metadata": {},
   "outputs": [
    {
     "data": {
      "text/plain": [
       "<AxesSubplot:title={'center':'GC content per sequence'}, ylabel='Density'>"
      ]
     },
     "execution_count": 63,
     "metadata": {},
     "output_type": "execute_result"
    },
    {
     "data": {
      "image/png": "[encoded data removed]",
      "text/plain": [
       "<Figure size 432x288 with 1 Axes>"
      ]
     },
     "metadata": {
      "needs_background": "light"
     },
     "output_type": "display_data"
    }
   ],
   "source": [
    "content_df[\"gc\"].plot.kde(title=\"GC content per sequence\",xlabel=\"# of GC pairs\",ylabel=\"Sequence density\")"
   ]
  },
  {
   "cell_type": "code",
   "execution_count": 64,
   "id": "9d15d81b",
   "metadata": {},
   "outputs": [
    {
     "data": {
      "text/plain": [
       "<AxesSubplot:title={'center':'CG content per sequence'}, ylabel='Density'>"
      ]
     },
     "execution_count": 64,
     "metadata": {},
     "output_type": "execute_result"
    },
    {
     "data": {
      "image/png": "[encoded data removed]",
      "text/plain": [
       "<Figure size 432x288 with 1 Axes>"
      ]
     },
     "metadata": {
      "needs_background": "light"
     },
     "output_type": "display_data"
    }
   ],
   "source": [
    "content_df[\"cg\"].plot.kde(title=\"CG content per sequence\",xlabel=\"# of CG pairs\",ylabel=\"Sequence density\")"
   ]
  },
  {
   "cell_type": "markdown",
   "id": "53b88a50",
   "metadata": {},
   "source": [
    "It seems like we have a higher GC content in general (~1.8x higher). GC distribution seems to be bimodal - most sequences have ~45 GC islands or around ~53 GC islands. \n",
    "\n",
    "CG content is less bimodal - most sequences have around 20-25 CpG islands.\n",
    "\n",
    "\n",
    "Given that distributions differ so much, one challenge is to account for unbalanced abundance of GC and CGs relative to each other."
   ]
  },
  {
   "cell_type": "code",
   "execution_count": null,
   "id": "6ffb032d",
   "metadata": {},
   "outputs": [],
   "source": []
  }
 ],
 "metadata": {
  "kernelspec": {
   "display_name": "Python 3",
   "language": "python",
   "name": "python3"
  },
  "language_info": {
   "codemirror_mode": {
    "name": "ipython",
    "version": 3
   },
   "file_extension": ".py",
   "mimetype": "text/x-python",
   "name": "python",
   "nbconvert_exporter": "python",
   "pygments_lexer": "ipython3",
   "version": "3.9.4"
  }
 },
 "nbformat": 4,
 "nbformat_minor": 5
}
